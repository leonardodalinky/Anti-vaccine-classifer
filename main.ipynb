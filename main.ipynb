{
 "cells": [
  {
   "cell_type": "code",
   "execution_count": 1,
   "outputs": [],
   "source": [
    "%load_ext autoreload\n",
    "%autoreload 2\n",
    "import sys\n",
    "import numpy as np\n",
    "import pandas as pd\n",
    "import scipy.sparse as sparse\n",
    "from pathlib import Path\n",
    "from glob import glob\n",
    "from tqdm import tqdm\n",
    "from sklearn.model_selection import train_test_split\n",
    "from sklearn import preprocessing\n",
    "from typing import List, Dict, Any, Optional"
   ],
   "metadata": {
    "collapsed": false,
    "pycharm": {
     "name": "#%%\n"
    },
    "trusted": false
   }
  },
  {
   "cell_type": "markdown",
   "source": [
    "## Data preprocessing\n",
    "First, we have to preprocessing the data and convert them to numpy ndarray."
   ],
   "metadata": {
    "collapsed": false
   }
  },
  {
   "cell_type": "markdown",
   "source": [
    "### Load data (Training Required)\n",
    "Load data and apply normalization technique to each sentences."
   ],
   "metadata": {
    "collapsed": false
   }
  },
  {
   "cell_type": "code",
   "execution_count": 2,
   "outputs": [],
   "source": [
    "from preprocess import preprocess_sentence"
   ],
   "metadata": {
    "collapsed": false,
    "pycharm": {
     "name": "#%%\n"
    },
    "trusted": false
   }
  },
  {
   "cell_type": "code",
   "execution_count": 3,
   "outputs": [
    {
     "name": "stderr",
     "output_type": "stream",
     "text": [
      "100%|██████████| 8239/8239 [00:13<00:00, 601.28it/s]\n"
     ]
    }
   ],
   "source": [
    "# load normal covid19 datasets\n",
    "p_sent_list: List[str] = list()\n",
    "for filepath in glob(\"covid19-tweets-clean/*.txt\"):\n",
    "    with open(filepath, \"r\", encoding=\"utf8\") as fp:\n",
    "        p_sent_list.extend(fp.readlines())\n",
    "p_sent_list = list(map(lambda x: x.strip(), p_sent_list))\n",
    "p_list: List[List[str]] = list()\n",
    "for sent in tqdm(p_sent_list):\n",
    "    p_list.append(preprocess_sentence(sent))"
   ],
   "metadata": {
    "collapsed": false,
    "pycharm": {
     "name": "#%%\n"
    },
    "trusted": false
   }
  },
  {
   "cell_type": "code",
   "execution_count": 4,
   "outputs": [
    {
     "name": "stderr",
     "output_type": "stream",
     "text": [
      "100%|██████████| 6266/6266 [00:09<00:00, 661.49it/s]\n"
     ]
    }
   ],
   "source": [
    "# load anti-vac datasets\n",
    "n_sent_list: List[str] = list()\n",
    "for filepath in glob(\"avax-tweets-clean/*.txt\"):\n",
    "    with open(filepath, \"r\", encoding=\"utf8\") as fp:\n",
    "        n_sent_list.extend(fp.readlines())\n",
    "n_list: List[List[str]] = list()\n",
    "for sent in tqdm(n_sent_list):\n",
    "    n_list.append(preprocess_sentence(sent))"
   ],
   "metadata": {
    "collapsed": false,
    "pycharm": {
     "name": "#%%\n"
    },
    "trusted": false
   }
  },
  {
   "cell_type": "markdown",
   "source": [
    "### Word embedding Train (First time training required)\n",
    "TF-IDF"
   ],
   "metadata": {
    "collapsed": false
   }
  },
  {
   "cell_type": "code",
   "execution_count": 5,
   "outputs": [],
   "source": [
    "from gensim.models.tfidfmodel import TfidfModel\n",
    "from gensim.corpora import Dictionary\n",
    "\n",
    "all_list = p_list + n_list\n",
    "dct = Dictionary(all_list)\n",
    "dct.filter_extremes(no_below=5, no_above=0.3)\n",
    "corpus = [dct.doc2bow(words) for words in all_list]\n",
    "\n",
    "tfidf_emb_model = TfidfModel(corpus)\n",
    "model_dir = Path(\"models/\")\n",
    "model_dir.mkdir(exist_ok=True)\n",
    "tfidf_emb_model.save(str(model_dir.joinpath(f\"tfidf_emb.pkl\")))\n",
    "dct.save(str(model_dir.joinpath(\"dictionary.pkl\")))"
   ],
   "metadata": {
    "collapsed": false,
    "pycharm": {
     "name": "#%%\n"
    },
    "trusted": false
   }
  },
  {
   "cell_type": "markdown",
   "source": [
    "### Word embedding model load (Always Required)\n",
    "Load the existing tfidf embedding model."
   ],
   "metadata": {
    "collapsed": false
   }
  },
  {
   "cell_type": "code",
   "execution_count": 6,
   "outputs": [],
   "source": [
    "from gensim.models.tfidfmodel import TfidfModel\n",
    "from gensim.corpora import Dictionary\n",
    "\n",
    "tfidf_emb_model_path = Path(\"models/tfidf_emb.pkl\")\n",
    "dictionary_path = Path(\"models/dictionary.pkl\")\n",
    "if tfidf_emb_model_path.exists():\n",
    "    tfidf_emb_model: TfidfModel = TfidfModel.load(str(tfidf_emb_model_path))\n",
    "    dct: Dictionary = Dictionary.load(str(dictionary_path))\n",
    "else:\n",
    "    sys.stderr.write(\"TfIdf embedding model or dictionary not found.\\n\")\n",
    "    sys.exit(-1)"
   ],
   "metadata": {
    "collapsed": false,
    "pycharm": {
     "name": "#%%\n"
    },
    "trusted": false
   }
  },
  {
   "cell_type": "markdown",
   "source": [
    "### Transforming docs to vectors (Training Required)\n",
    "It's time to transform these documents into `scipy.sparse.csr_matrix`.\n"
   ],
   "metadata": {
    "collapsed": false
   }
  },
  {
   "cell_type": "code",
   "execution_count": 7,
   "outputs": [],
   "source": [
    "indices_ptr = list()\n",
    "indices_ptr.append(0)\n",
    "col_indices = list()\n",
    "csr_data = list()\n",
    "for i, words in enumerate(p_list):\n",
    "    tfidf_result = tfidf_emb_model[dct.doc2bow(words)]\n",
    "    indices_ptr.append(indices_ptr[-1] + len(tfidf_result))\n",
    "    col_indices.extend([r[0] for r in tfidf_result])\n",
    "    csr_data.extend([r[1] for r in tfidf_result])\n",
    "for i, words in enumerate(n_list):\n",
    "    tfidf_result = tfidf_emb_model[dct.doc2bow(words)]\n",
    "    indices_ptr.append(indices_ptr[-1] + len(tfidf_result))\n",
    "    col_indices.extend([r[0] for r in tfidf_result])\n",
    "    csr_data.extend([r[1] for r in tfidf_result])\n",
    "# construct the csr matrix and gold labels\n",
    "X: sparse.csr_matrix = sparse.csr_matrix((csr_data, col_indices, indices_ptr))\n",
    "y = np.zeros(len(p_list) + len(n_list), dtype=int)\n",
    "y[:len(p_list)] = 1"
   ],
   "metadata": {
    "collapsed": false,
    "pycharm": {
     "name": "#%%\n"
    },
    "trusted": false
   }
  },
  {
   "cell_type": "markdown",
   "source": [
    "### Split training and testing sets (Training Required)"
   ],
   "metadata": {
    "collapsed": false
   }
  },
  {
   "cell_type": "code",
   "execution_count": 8,
   "outputs": [],
   "source": [
    "X_train, X_test, y_train, y_test = train_test_split(X, y, test_size=0.1, shuffle=True)"
   ],
   "metadata": {
    "collapsed": false,
    "pycharm": {
     "name": "#%%\n"
    },
    "trusted": false
   }
  },
  {
   "cell_type": "markdown",
   "source": [
    "## Training\n",
    "In this section, we shall train some models to fit the ground-truth classifier."
   ],
   "metadata": {
    "collapsed": false
   }
  },
  {
   "cell_type": "markdown",
   "source": [
    "### XGBoost\n",
    "In this section, we choose `XGBoost` as the classifier."
   ],
   "metadata": {
    "collapsed": false
   }
  },
  {
   "cell_type": "code",
   "execution_count": 9,
   "metadata": {
    "collapsed": true,
    "trusted": false
   },
   "outputs": [],
   "source": [
    "import xgboost as xgb\n",
    "\n",
    "weights_train = np.zeros(X_train.shape[0])\n",
    "weights_train[y_train == 0] = np.sum(y_train == 1) / X_train.shape[0]\n",
    "weights_train[y_train == 1] = np.sum(y_train == 0) / X_train.shape[0]\n",
    "data_train = xgb.DMatrix(X_train, label=y_train, weight=weights_train)\n",
    "data_test = xgb.DMatrix(X_test, label=y_test)\n",
    "xgb_params = {\n",
    "    \"learning_rate\": 0.2,\n",
    "    \"booster\": \"dart\",\n",
    "    \"objective\": \"binary:logistic\",\n",
    "    \"max_depth\": 50,\n",
    "    \"lambda\": 10., # L2 regularization\n",
    "    \"eval_metric\": [\"logloss\", \"error\"],\n",
    "    \"rate_drop\": 0.1,\n",
    "    \"skip_drop\": 0.5,\n",
    "}\n",
    "eval_list = [(data_train, \"train\"), (data_test, \"eval\")]"
   ]
  },
  {
   "cell_type": "code",
   "execution_count": 10,
   "outputs": [
    {
     "name": "stdout",
     "output_type": "stream",
     "text": [
      "[0]\ttrain-logloss:0.57734\ttrain-error:0.10091\teval-logloss:0.58051\teval-error:0.12681\n",
      "[1]\ttrain-logloss:0.49638\ttrain-error:0.09389\teval-logloss:0.50239\teval-error:0.11716\n",
      "[2]\ttrain-logloss:0.43708\ttrain-error:0.09421\teval-logloss:0.44611\teval-error:0.11716\n",
      "[3]\ttrain-logloss:0.39187\ttrain-error:0.09080\teval-logloss:0.40465\teval-error:0.11647\n",
      "[4]\ttrain-logloss:0.35555\ttrain-error:0.08401\teval-logloss:0.37320\teval-error:0.11234\n",
      "[5]\ttrain-logloss:0.32694\ttrain-error:0.08162\teval-logloss:0.34854\teval-error:0.11027\n",
      "[6]\ttrain-logloss:0.30371\ttrain-error:0.08244\teval-logloss:0.32805\teval-error:0.10820\n",
      "[7]\ttrain-logloss:0.28452\ttrain-error:0.07963\teval-logloss:0.31286\teval-error:0.10889\n",
      "[8]\ttrain-logloss:0.26842\ttrain-error:0.07686\teval-logloss:0.30116\teval-error:0.10820\n",
      "[9]\ttrain-logloss:0.25533\ttrain-error:0.07533\teval-logloss:0.29154\teval-error:0.10407\n",
      "[10]\ttrain-logloss:0.24417\ttrain-error:0.07322\teval-logloss:0.28384\teval-error:0.10751\n",
      "[11]\ttrain-logloss:0.23466\ttrain-error:0.07309\teval-logloss:0.27721\teval-error:0.10682\n",
      "[12]\ttrain-logloss:0.22906\ttrain-error:0.07223\teval-logloss:0.27355\teval-error:0.10338\n",
      "[13]\ttrain-logloss:0.22682\ttrain-error:0.07199\teval-logloss:0.27228\teval-error:0.10476\n",
      "[14]\ttrain-logloss:0.22486\ttrain-error:0.07165\teval-logloss:0.27115\teval-error:0.10407\n",
      "[15]\ttrain-logloss:0.21798\ttrain-error:0.07089\teval-logloss:0.26608\teval-error:0.10407\n",
      "[16]\ttrain-logloss:0.21184\ttrain-error:0.06747\teval-logloss:0.26345\teval-error:0.10269\n",
      "[17]\ttrain-logloss:0.20837\ttrain-error:0.06951\teval-logloss:0.26071\teval-error:0.10544\n",
      "[18]\ttrain-logloss:0.20290\ttrain-error:0.06534\teval-logloss:0.25899\teval-error:0.10751\n",
      "[19]\ttrain-logloss:0.19811\ttrain-error:0.06524\teval-logloss:0.25681\teval-error:0.10476\n",
      "[20]\ttrain-logloss:0.19409\ttrain-error:0.06338\teval-logloss:0.25577\teval-error:0.10544\n",
      "[21]\ttrain-logloss:0.19391\ttrain-error:0.06374\teval-logloss:0.25553\teval-error:0.10407\n",
      "[22]\ttrain-logloss:0.19264\ttrain-error:0.06370\teval-logloss:0.25497\teval-error:0.10338\n",
      "[23]\ttrain-logloss:0.19001\ttrain-error:0.06416\teval-logloss:0.25383\teval-error:0.10131\n",
      "[24]\ttrain-logloss:0.18674\ttrain-error:0.06223\teval-logloss:0.25292\teval-error:0.10338\n",
      "[25]\ttrain-logloss:0.18574\ttrain-error:0.06183\teval-logloss:0.25244\teval-error:0.10269\n",
      "[26]\ttrain-logloss:0.18205\ttrain-error:0.06032\teval-logloss:0.25127\teval-error:0.10407\n",
      "[27]\ttrain-logloss:0.17907\ttrain-error:0.05892\teval-logloss:0.25035\teval-error:0.10407\n",
      "[28]\ttrain-logloss:0.17593\ttrain-error:0.05746\teval-logloss:0.24960\teval-error:0.10544\n",
      "[29]\ttrain-logloss:0.17530\ttrain-error:0.05680\teval-logloss:0.24980\teval-error:0.10476\n",
      "[30]\ttrain-logloss:0.17297\ttrain-error:0.05689\teval-logloss:0.24811\teval-error:0.10338\n",
      "[31]\ttrain-logloss:0.17060\ttrain-error:0.05545\teval-logloss:0.24762\teval-error:0.10338\n",
      "[32]\ttrain-logloss:0.16789\ttrain-error:0.05468\teval-logloss:0.24724\teval-error:0.10682\n",
      "[33]\ttrain-logloss:0.16792\ttrain-error:0.05472\teval-logloss:0.24724\teval-error:0.10613\n",
      "[34]\ttrain-logloss:0.16775\ttrain-error:0.05462\teval-logloss:0.24719\teval-error:0.10682\n",
      "[35]\ttrain-logloss:0.16732\ttrain-error:0.05437\teval-logloss:0.24715\teval-error:0.10476\n",
      "[36]\ttrain-logloss:0.16509\ttrain-error:0.05230\teval-logloss:0.24674\teval-error:0.10751\n",
      "[37]\ttrain-logloss:0.16301\ttrain-error:0.05233\teval-logloss:0.24579\teval-error:0.10613\n",
      "[38]\ttrain-logloss:0.16084\ttrain-error:0.04992\teval-logloss:0.24575\teval-error:0.10338\n",
      "[39]\ttrain-logloss:0.15881\ttrain-error:0.05039\teval-logloss:0.24491\teval-error:0.10544\n",
      "[40]\ttrain-logloss:0.15876\ttrain-error:0.04998\teval-logloss:0.24478\teval-error:0.10476\n",
      "[41]\ttrain-logloss:0.15663\ttrain-error:0.04872\teval-logloss:0.24466\teval-error:0.10407\n",
      "[42]\ttrain-logloss:0.15445\ttrain-error:0.04821\teval-logloss:0.24430\teval-error:0.10338\n",
      "[43]\ttrain-logloss:0.15264\ttrain-error:0.04587\teval-logloss:0.24394\teval-error:0.10338\n",
      "[44]\ttrain-logloss:0.15087\ttrain-error:0.04615\teval-logloss:0.24316\teval-error:0.10062\n",
      "[45]\ttrain-logloss:0.14955\ttrain-error:0.04490\teval-logloss:0.24309\teval-error:0.10131\n",
      "[46]\ttrain-logloss:0.14782\ttrain-error:0.04460\teval-logloss:0.24321\teval-error:0.10200\n",
      "[47]\ttrain-logloss:0.14793\ttrain-error:0.04495\teval-logloss:0.24313\teval-error:0.10200\n",
      "[48]\ttrain-logloss:0.14756\ttrain-error:0.04453\teval-logloss:0.24305\teval-error:0.10269\n",
      "[49]\ttrain-logloss:0.14737\ttrain-error:0.04424\teval-logloss:0.24280\teval-error:0.10200\n"
     ]
    }
   ],
   "source": [
    "# If u want to train, set `XGB_TRAIN` to `True`\n",
    "XGB_TRAIN = True\n",
    "XGB_MODEL_FILEPATH = \"models/xgb.model\"\n",
    "if XGB_TRAIN:\n",
    "    num_rounds = 50\n",
    "    bst: xgb.Booster = xgb.train(xgb_params, data_train, num_rounds, eval_list)\n",
    "    bst.save_model(XGB_MODEL_FILEPATH)\n",
    "else:\n",
    "    bst = xgb.Booster(xgb_params)\n",
    "    bst.load_model(XGB_MODEL_FILEPATH)"
   ],
   "metadata": {
    "collapsed": false,
    "pycharm": {
     "name": "#%%\n"
    },
    "trusted": false
   }
  },
  {
   "cell_type": "markdown",
   "source": [
    "## Evaluation\n",
    "In this section, we apply some methods of evaluating to prove that this experiment is done successfully."
   ],
   "metadata": {
    "collapsed": false
   }
  },
  {
   "cell_type": "code",
   "execution_count": 11,
   "outputs": [],
   "source": [
    "# construct y_pred\n",
    "y_pred = bst.predict(data_test)\n",
    "y_pred[y_pred >= 0.5] = 1\n",
    "y_pred[y_pred < 0.5] = 0\n",
    "y_pred = y_pred.astype(int)"
   ],
   "metadata": {
    "collapsed": false,
    "pycharm": {
     "name": "#%%\n"
    },
    "trusted": false
   }
  },
  {
   "cell_type": "markdown",
   "source": [
    "### LogLoss & Error rate"
   ],
   "metadata": {
    "collapsed": false
   }
  },
  {
   "cell_type": "code",
   "execution_count": 12,
   "outputs": [
    {
     "name": "stdout",
     "output_type": "stream",
     "text": [
      "[0]\teval-logloss:0.242798\teval-error:0.101999\n"
     ]
    }
   ],
   "source": [
    "print(bst.eval(data_test))"
   ],
   "metadata": {
    "collapsed": false,
    "pycharm": {
     "name": "#%%\n"
    },
    "trusted": false
   }
  },
  {
   "cell_type": "markdown",
   "source": [
    "### Confusion matrix\n",
    "In the confusion matrix, **0** represent the sentiment prone to anti-vaccination, and **1** vice versa."
   ],
   "metadata": {
    "collapsed": false
   }
  },
  {
   "cell_type": "code",
   "execution_count": 25,
   "outputs": [
    {
     "data": {
      "text/plain": "<Figure size 432x288 with 2 Axes>",
      "image/png": "[encoded data removed]"
     },
     "metadata": {
      "needs_background": "light"
     },
     "output_type": "display_data"
    }
   ],
   "source": [
    "from sklearn.metrics import ConfusionMatrixDisplay\n",
    "ConfusionMatrixDisplay.from_predictions(y_test, y_pred).figure_.savefig(\"confusion.png\", dpi=200)"
   ],
   "metadata": {
    "collapsed": false,
    "pycharm": {
     "name": "#%%\n"
    },
    "trusted": false
   }
  },
  {
   "cell_type": "markdown",
   "source": [
    "### F1 score"
   ],
   "metadata": {
    "collapsed": false
   }
  },
  {
   "cell_type": "code",
   "execution_count": 28,
   "outputs": [
    {
     "name": "stdout",
     "output_type": "stream",
     "text": [
      "F1 Score: 0.9131455399061034\n",
      "Accuracy: 0.8980013783597519\n",
      "Precision: 0.887115165336374\n",
      "Recall: 0.9407496977025392\n"
     ]
    }
   ],
   "source": [
    "from sklearn.metrics import f1_score, recall_score, precision_score, accuracy_score\n",
    "print(f\"F1 Score: {f1_score(y_test, y_pred)}\")\n",
    "print(f\"Accuracy: {accuracy_score(y_test, y_pred)}\")\n",
    "print(f\"Precision: {precision_score(y_test, y_pred)}\")\n",
    "print(f\"Recall: {recall_score(y_test, y_pred)}\")"
   ],
   "metadata": {
    "collapsed": false,
    "pycharm": {
     "name": "#%%\n"
    },
    "trusted": false
   }
  },
  {
   "cell_type": "markdown",
   "source": [
    "## Test by yourself\n",
    "Now, you can test whether a sentence is has an anti-vaccination sentiment.\n",
    "Try it yourself :)"
   ],
   "metadata": {
    "collapsed": false
   }
  },
  {
   "cell_type": "code",
   "execution_count": 15,
   "outputs": [],
   "source": [
    "import xgboost as xgb\n",
    "from preprocess import preprocess_sentence\n",
    "from typing import Tuple\n",
    "def predict_sentence(sentence: str) -> Tuple[str, float]:\n",
    "    words: List[str] = preprocess_sentence(sentence)\n",
    "    tfidf_result = tfidf_emb_model[dct.doc2bow(words)]\n",
    "    if len(tfidf_result) == 0:\n",
    "        return \"Unknown\", -1.\n",
    "    indptr = [0, len(tfidf_result)]\n",
    "    indices = [r[0] for r in tfidf_result]\n",
    "    data = [r[1] for r in tfidf_result]\n",
    "    mat = sparse.csr_matrix((data, indices, indptr))\n",
    "    dmat = xgb.DMatrix(mat)\n",
    "    predict_result = bst.predict(dmat)\n",
    "    if predict_result[0] >= 0.5:\n",
    "        return \"others\", predict_result[0]\n",
    "    else:\n",
    "        return \"anti-vaccination like\", predict_result[0]"
   ],
   "metadata": {
    "collapsed": false,
    "pycharm": {
     "name": "#%%\n"
    },
    "trusted": false
   }
  },
  {
   "cell_type": "code",
   "execution_count": 16,
   "outputs": [
    {
     "data": {
      "text/plain": "('anti-vaccination like', 0.012458286)"
     },
     "execution_count": 16,
     "metadata": {},
     "output_type": "execute_result"
    }
   ],
   "source": [
    "predict_sentence(\"Vaccines gonna kill us all. The government is lying! HERE COMES THE DEPOPULATION!\")"
   ],
   "metadata": {
    "collapsed": false,
    "pycharm": {
     "name": "#%%\n"
    },
    "trusted": false
   }
  }
 ],
 "metadata": {
  "kernelspec": {
   "display_name": "Python 3",
   "language": "python",
   "name": "python3"
  },
  "language_info": {
   "codemirror_mode": {
    "name": "ipython",
    "version": 2
   },
   "file_extension": ".py",
   "mimetype": "text/x-python",
   "name": "python",
   "nbconvert_exporter": "python",
   "pygments_lexer": "ipython2",
   "version": "2.7.6"
  }
 },
 "nbformat": 4,
 "nbformat_minor": 0
}